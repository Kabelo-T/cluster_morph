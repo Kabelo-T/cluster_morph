{
 "cells": [
  {
   "cell_type": "code",
   "execution_count": 20,
   "id": "fc9e7aad",
   "metadata": {},
   "outputs": [],
   "source": [
    "import os\n",
    "\n",
    "import pandas as pd\n",
    "import matplotlib.pyplot as plt\n",
    "from astropy.io import fits\n",
    "import numpy as np\n",
    "\n",
    "import utils.plots as plots\n",
    "import utils.data as datutils\n",
    "\n",
    "plt.rcParams.update({\n",
    "    'axes.labelsize': 14,\n",
    "    'xtick.labelsize': 12,\n",
    "    'ytick.labelsize': 12\n",
    "})"
   ]
  },
  {
   "cell_type": "code",
   "execution_count": null,
   "id": "510f2041",
   "metadata": {},
   "outputs": [],
   "source": [
    "mah_dir = 'data/gadgetx3k_20/AHFHaloHistory/'\n",
    "files = sorted(os.listdir(mah_dir))    \n",
    "for mah_file in files[1:]:\n",
    "\n",
    "    with open(mah_dir+mah_file, 'r') as f:\n",
    "        lines = f.readlines()\n",
    "\n",
    "    lines = lines[1:]\n",
    "    col_names = lines[0].split()\n",
    "    col_names.insert(0, 'Redshift(0)')\n",
    "    col_names[1] = \"ID(1)\"\n",
    "    sep = '\\t'\n",
    "    lines[0] = sep.join(col_names)\n",
    "\n",
    "    # with open(mah_dir+mah_file, 'w') as f:\n",
    "    #     f.writelines(lines)"
   ]
  },
  {
   "cell_type": "code",
   "execution_count": null,
   "id": "fa4c9242",
   "metadata": {},
   "outputs": [],
   "source": [
    "ds_z0 = {}\n",
    "with open('data/gadgetx3k_20/GadgetX-DS-theory-snap-128.txt') as f:\n",
    "    for i, x in enumerate(f):\n",
    "        if i == 0: continue\n",
    "        if i > 20: break\n",
    "        k, v = list(map(int,x.split()))\n",
    "        ds_z0[k] = v\n",
    "        \n",
    "state = {0: \"Relaxed\",\n",
    "         1: \"Disturbed\"}"
   ]
  },
  {
   "cell_type": "code",
   "execution_count": null,
   "id": "7fec7a98",
   "metadata": {},
   "outputs": [],
   "source": [
    "for indx in np.arange(1, 21):\n",
    "    fig, axs = plt.subplots(nrows=1, ncols=3, figsize=(18, 7))\n",
    "    fig.suptitle(f'ID {indx} | {state[ds_z0[indx]]}', fontsize=20)\n",
    "    mah_file = f'data/gadgetx3k_20/AHF_History/NewMDCLUSTER_{str(indx).zfill(4)}_halo_128000000000001.dat'\n",
    "    mah_df = pd.read_csv(mah_file, sep=r'\\s+', index_col=False)\n",
    "\n",
    "    mm0 = mah_df['Mvir(4)'].values/mah_df['Mvir(4)'][0]\n",
    "    mm0_star = mah_df['M_star(65)'].values/mah_df['M_star(65)'][0]\n",
    "    mm0_gas = mah_df['M_gas(45)'].values/mah_df['M_gas(45)'][0]\n",
    "\n",
    "    com = mah_df[mah_df.columns[16]].values\n",
    "    ekin = mah_df[mah_df.columns[39]].values/mah_df[mah_df.columns[39]][0]\n",
    "    sigV = mah_df[mah_df.columns[19]].values/mah_df[mah_df.columns[19]][0]\n",
    "\n",
    "    # for i in range(3):\n",
    "\n",
    "        # img_file = f'data/gadgetx3k_20/maps/bcg_{str(indx).zfill(4)}_125_{str(i)}.fits'\n",
    "        # try:\n",
    "        #     hdulist = fits.open(img_file)\n",
    "        # except:\n",
    "        #     continue\n",
    "        # img = hdulist[0].data\n",
    "        # plots.display_img(img, axs=axs[0][i])\n",
    "        # axs[0][i].xaxis.set_visible(False)\n",
    "        # axs[0][i].yaxis.set_visible(False)\n",
    "    aexp = 1/(1+mah_df['Redshift(0)'])\n",
    "    axs[0].plot(aexp, mm0, label='total')\n",
    "    axs[0].plot(aexp, mm0_star, label='stars')\n",
    "    axs[0].plot(aexp, mm0_gas, label='gas')\n",
    "    axs[0].set_xlabel('aexp')\n",
    "    axs[0].set_ylabel('M/M0')\n",
    "    axs[0].legend()\n",
    "\n",
    "    axs[1].plot(aexp, sigV, label='sigV')\n",
    "    axs[1].plot(aexp, ekin, label='ekin')\n",
    "    axs[1].plot(aexp, mm0, label='mm0')\n",
    "    axs[1].set_xlabel('aexp')\n",
    "    axs[1].legend()\n",
    "\n",
    "    axs[2].plot(aexp, com)\n",
    "    axs[2].set_xlabel('aexp')\n",
    "    axs[2].set_ylabel('com offset')\n",
    "    plt.show()"
   ]
  },
  {
   "cell_type": "code",
   "execution_count": null,
   "id": "0c9d3f3a",
   "metadata": {},
   "outputs": [],
   "source": [
    "dsdf = pd.read_csv(\n",
    "    'data/gadgetx3k_20/G3X_progenitors/DS_G3X_snap_075_center-cluster_progenitors.txt',\n",
    "    sep=r'\\s+', header=0)\n",
    "\n",
    "int_columns = [0, 1, 2, 7] \n",
    "column_names = dsdf.columns\n",
    "\n",
    "for idx in range(len(column_names)):\n",
    "    col_name = column_names[idx]\n",
    "    if idx in int_columns:\n",
    "        dsdf[col_name] = dsdf[col_name].astype(int)\n",
    "    else:\n",
    "        dsdf[col_name] = dsdf[col_name].astype(float)"
   ]
  },
  {
   "cell_type": "code",
   "execution_count": null,
   "id": "cdc0be51",
   "metadata": {},
   "outputs": [],
   "source": [
    "dsdf"
   ]
  },
  {
   "cell_type": "code",
   "execution_count": null,
   "id": "a358d627",
   "metadata": {},
   "outputs": [],
   "source": [
    "dsdf.isna().sum()"
   ]
  },
  {
   "cell_type": "code",
   "execution_count": null,
   "id": "dc40f56d",
   "metadata": {},
   "outputs": [],
   "source": [
    "mm0[100]"
   ]
  },
  {
   "cell_type": "code",
   "execution_count": null,
   "id": "19913e10",
   "metadata": {},
   "outputs": [],
   "source": []
  }
 ],
 "metadata": {
  "kernelspec": {
   "display_name": "cluster_morph",
   "language": "python",
   "name": "python3"
  },
  "language_info": {
   "codemirror_mode": {
    "name": "ipython",
    "version": 3
   },
   "file_extension": ".py",
   "mimetype": "text/x-python",
   "name": "python",
   "nbconvert_exporter": "python",
   "pygments_lexer": "ipython3",
   "version": "3.13.0"
  }
 },
 "nbformat": 4,
 "nbformat_minor": 5
}
