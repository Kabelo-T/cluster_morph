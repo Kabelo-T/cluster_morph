{
 "cells": [
  {
   "cell_type": "code",
   "execution_count": 1,
   "id": "17ca77bb",
   "metadata": {},
   "outputs": [],
   "source": [
    "import matplotlib.pyplot as plt\n",
    "import numpy as np\n",
    "import pandas as pd\n",
    "\n",
    "from multicam.models import MultiCamSampling\n",
    "from multicam.models import _get_tt_indices\n",
    "from multicam.correlations import spearmanr\n",
    "\n",
    "import warnings\n",
    "from pandas.errors import ParserWarning\n",
    "\n",
    "warnings.simplefilter(action='ignore', category=ParserWarning)\n",
    "warnings.simplefilter(action='ignore', category=FutureWarning)"
   ]
  },
  {
   "cell_type": "code",
   "execution_count": null,
   "id": "bb01d35b",
   "metadata": {},
   "outputs": [],
   "source": [
    "dsdf = pd.read_csv(\n",
    "    'data/gadgetx3k_20/G3X_progenitors/DS_G3X_snap_128_center-cluster_progenitors.txt',\n",
    "    sep=r'\\s+', header=0)\n",
    "\n",
    "int_columns = [0, 1, 2, 7]\n",
    "column_names = dsdf.columns\n",
    "\n",
    "for idx in range(len(column_names)):\n",
    "    col_name = column_names[idx]\n",
    "    if idx in int_columns:\n",
    "        dsdf[col_name] = dsdf[col_name].astype(int)\n",
    "    else:\n",
    "        dsdf[col_name] = dsdf[col_name].astype(float)\n",
    "\n",
    "dsdf.drop(columns=['rID[0]', 'Hid[1]', 'DS_200[2]', 'DS_500[7]'], inplace=True)\n",
    "dsdf = dsdf[:20]       # there are only MAH for the first 20 regions"
   ]
  },
  {
   "cell_type": "code",
   "execution_count": 38,
   "id": "2f2e1bcf",
   "metadata": {},
   "outputs": [],
   "source": [
    "mah_data = []\n",
    "for indx in np.arange(1, 21):\n",
    "    mah_file = f'data/gadgetx3k_20/AHF_History/NewMDCLUSTER_{str(indx).zfill(4)}_halo_128000000000001.dat'\n",
    "    mah_df = pd.read_csv(mah_file, sep=r'\\s+', index_col=False)\n",
    "\n",
    "    mah_df['M/M0'] = mah_df['Mvir(4)'].values/mah_df['Mvir(4)'][0]\n",
    "    mah_df['aexp'] = 1/(1+mah_df['Redshift(0)'])\n",
    "    mah_data.append(mah_df)"
   ]
  },
  {
   "cell_type": "code",
   "execution_count": 39,
   "id": "f1612a8f",
   "metadata": {},
   "outputs": [],
   "source": [
    "n_snaps = [len(df) for df in mah_data]\n",
    "most_snaps_indx = np.argmax(n_snaps)\n",
    "aexp = mah_data[most_snaps_indx]['aexp']\n",
    "n_regions = 20\n",
    "mah_ds_dict = {}\n",
    "for a in aexp:\n",
    "    # setup df for all MM0 values at this snap\n",
    "    mah_df = pd.DataFrame(columns=['M/M0'])\n",
    "    bad_regions = [] # indices for regions without MM0 at this snap\n",
    "    for region in range(20):\n",
    "        row = mah_data[region].loc[mah_data[region]\n",
    "                                      ['aexp'] == a, ['M/M0']]\n",
    "\n",
    "        if not row.empty:   # then there is an MM0 value for this region at snap\n",
    "            mah_df = pd.concat([mah_df, row], ignore_index=True)\n",
    "        else: bad_regions.append(region)\n",
    "\n",
    "    if len(bad_regions) != 0:\n",
    "        ds = dsdf.drop(bad_regions, axis=0)\n",
    "    else: ds = dsdf\n",
    "\n",
    "    if len(ds) < n_regions:\n",
    "        aexp = aexp[aexp != a]\n",
    "        continue\n",
    "\n",
    "    df = pd.concat([mah_df.reset_index(drop=True),\n",
    "                   ds.reset_index(drop=True)], axis=1)\n",
    "    mah_ds_dict[a] = df"
   ]
  },
  {
   "cell_type": "code",
   "execution_count": 9,
   "id": "64c49cc1",
   "metadata": {},
   "outputs": [],
   "source": [
    "eta_200 = dsdf['eta_200[3]']\n",
    "delta_200 = dsdf['delta_200[4]']\n",
    "fm_200 = dsdf['fm_200[5]']\n",
    "fm2_200 = dsdf['fm2_200[6]']\n",
    "\n",
    "eta_500 = dsdf['eta_500[8]']\n",
    "delta_500 = dsdf['delta_500[9]']\n",
    "fm_500 = dsdf['fm_200[5]']\n",
    "fm2_500 = dsdf['fm2_500[11]']"
   ]
  },
  {
   "cell_type": "code",
   "execution_count": 69,
   "id": "239ca349",
   "metadata": {},
   "outputs": [],
   "source": [
    "min_snaps = np.min(n_snaps)\n",
    "n_features = int(min_snaps)  # number of features is the number of scales\n",
    "n_targets = 1  # number of targets is 1, the present-day halo property\n",
    "model = MultiCamSampling(n_features, n_targets)\n",
    "\n",
    "train_idx, test_idx = _get_tt_indices(n_regions, test_ratio=0.25)"
   ]
  },
  {
   "cell_type": "code",
   "execution_count": 70,
   "id": "9f88d70f",
   "metadata": {},
   "outputs": [],
   "source": [
    "mah = [df['M/M0'] for df in mah_data]\n",
    "ma = [df.sample(min_snaps) for df in mah]\n",
    "ma = np.array(ma)"
   ]
  },
  {
   "cell_type": "code",
   "execution_count": 71,
   "id": "11a6bb3c",
   "metadata": {},
   "outputs": [],
   "source": [
    "ma_train = ma[train_idx]\n",
    "ma_test = ma[test_idx]\n",
    "eta_train = eta_200[train_idx]\n",
    "eta_test = eta_200[test_idx]"
   ]
  },
  {
   "cell_type": "code",
   "execution_count": 72,
   "id": "3a08ab54",
   "metadata": {},
   "outputs": [],
   "source": [
    "model.fit(ma_train, eta_train.values.reshape(15, 1))  # reshape to 2D array"
   ]
  },
  {
   "cell_type": "code",
   "execution_count": 73,
   "id": "efadbf66",
   "metadata": {},
   "outputs": [],
   "source": [
    "eta_pred = model.predict(ma_test)"
   ]
  },
  {
   "cell_type": "code",
   "execution_count": 74,
   "id": "dd1762f8",
   "metadata": {},
   "outputs": [
    {
     "data": {
      "image/png": "[encoded data removed]",
      "text/plain": [
       "<Figure size 640x480 with 1 Axes>"
      ]
     },
     "metadata": {},
     "output_type": "display_data"
    }
   ],
   "source": [
    "_, bins, _ = plt.hist(eta_test, label='test',\n",
    "                      histtype='step', bins=25, color='r')\n",
    "plt.hist(eta_pred, label='pred', histtype='step', bins=bins, color='b')\n",
    "plt.axvline(np.mean(eta_test),  ls='--',\n",
    "            label='test median', alpha=0.5, lw=2, color='r')\n",
    "plt.axvline(np.mean(eta_pred), ls='--',\n",
    "            label='true median', alpha=0.5, lw=2, color='b')\n",
    "plt.xlabel('Virial Ratio', fontsize=16)\n",
    "plt.ylabel('Number of regions', fontsize=16)\n",
    "plt.legend()\n",
    "plt.show()"
   ]
  },
  {
   "cell_type": "code",
   "execution_count": 75,
   "id": "730b3ccf",
   "metadata": {},
   "outputs": [
    {
     "data": {
      "text/plain": [
       "np.float64(0.8207826816681233)"
      ]
     },
     "execution_count": 75,
     "metadata": {},
     "output_type": "execute_result"
    }
   ],
   "source": [
    "spearmanr(eta_test, eta_pred)"
   ]
  },
  {
   "cell_type": "markdown",
   "id": "f1e0dce2",
   "metadata": {},
   "source": [
    "# Multivariable Prediction"
   ]
  },
  {
   "cell_type": "code",
   "execution_count": 79,
   "id": "49f7b272",
   "metadata": {},
   "outputs": [],
   "source": [
    "min_snaps = np.min(n_snaps)\n",
    "n_features = int(min_snaps)  # number of features is the number of scales\n",
    "n_targets = 4\n",
    "mv_model = MultiCamSampling(n_features, n_targets)\n",
    "\n",
    "train_idx, test_idx = _get_tt_indices(n_regions, test_ratio=0.25)"
   ]
  },
  {
   "cell_type": "code",
   "execution_count": 100,
   "id": "c3f9ce50",
   "metadata": {},
   "outputs": [
    {
     "data": {
      "text/plain": [
       "((20, 87), (20, 4))"
      ]
     },
     "execution_count": 100,
     "metadata": {},
     "output_type": "execute_result"
    }
   ],
   "source": [
    "x = ma \n",
    "y = np.vstack([eta_200, delta_200, fm_200, fm2_200]).T # just need to remember the order of the targets\n",
    "x.shape, y.shape"
   ]
  },
  {
   "cell_type": "code",
   "execution_count": 101,
   "id": "f57c9d54",
   "metadata": {},
   "outputs": [],
   "source": [
    "train_idx, test_idx = _get_tt_indices(n_regions, test_ratio=0.25)\n",
    "x_train = x[train_idx]\n",
    "x_test = x[test_idx]\n",
    "y_train = y[train_idx]\n",
    "y_test = y[test_idx]"
   ]
  },
  {
   "cell_type": "code",
   "execution_count": 102,
   "id": "cad6078d",
   "metadata": {},
   "outputs": [],
   "source": [
    "mv_model.fit(x_train, y_train)"
   ]
  },
  {
   "cell_type": "code",
   "execution_count": 103,
   "id": "314d539d",
   "metadata": {},
   "outputs": [],
   "source": [
    "y_pred = mv_model.predict(x_test)"
   ]
  },
  {
   "cell_type": "code",
   "execution_count": 104,
   "id": "51b61bb6",
   "metadata": {},
   "outputs": [
    {
     "name": "stdout",
     "output_type": "stream",
     "text": [
      "eta: -0.3\n",
      "delta: -0.3\n",
      "fm: -0.7\n",
      "fm2: -0.8720815992723809\n"
     ]
    }
   ],
   "source": [
    "# compute spearman correlation for each target\n",
    "target_names = ['eta', 'delta', 'fm', 'fm2']\n",
    "for i in range(n_targets):\n",
    "    print(f'{target_names[i]}:', spearmanr(y_test[:, i], y_pred[:, i]))"
   ]
  },
  {
   "cell_type": "code",
   "execution_count": null,
   "id": "922e9221",
   "metadata": {},
   "outputs": [],
   "source": []
  }
 ],
 "metadata": {
  "kernelspec": {
   "display_name": "multicam",
   "language": "python",
   "name": "python3"
  },
  "language_info": {
   "codemirror_mode": {
    "name": "ipython",
    "version": 3
   },
   "file_extension": ".py",
   "mimetype": "text/x-python",
   "name": "python",
   "nbconvert_exporter": "python",
   "pygments_lexer": "ipython3",
   "version": "3.11.13"
  }
 },
 "nbformat": 4,
 "nbformat_minor": 5
}
